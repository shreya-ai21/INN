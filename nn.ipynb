{
 "cells": [
  {
   "cell_type": "code",
   "execution_count": 1,
   "id": "d9b9fb1a",
   "metadata": {},
   "outputs": [],
   "source": [
    "import numpy as np\n",
    "import matplotlib as plt\n",
    "import sympy as sym"
   ]
  },
  {
   "cell_type": "code",
   "execution_count": 2,
   "id": "0bd90ee4",
   "metadata": {},
   "outputs": [],
   "source": [
    "def sigmoid(x):\n",
    "  y=1/(1+np.exp(-x))\n",
    "  return y"
   ]
  },
  {
   "cell_type": "code",
   "execution_count": 3,
   "id": "019c6256",
   "metadata": {},
   "outputs": [],
   "source": [
    "inputs=[1,2,3,2.5]\n",
    "weights=[[0.2,0.8,-0.5,1.0],[0.5,-0.91,0.26,-0.5],[-0.26,-0.27,0.17,0.87]]\n",
    "bias=[2,3,0.5]"
   ]
  },
  {
   "cell_type": "code",
   "execution_count": 6,
   "id": "2d4042a6",
   "metadata": {},
   "outputs": [],
   "source": [
    "output=[]\n",
    "sigmoid_op=[]\n",
    "for i,l in zip(weights,bias):\n",
    "    ans=0\n",
    "    for j,k in zip(inputs,i):\n",
    "        ans+=j*k\n",
    "    ans+=l\n",
    "    output.append(ans)\n",
    "    sigmoid_op.append(sigmoid(ans))"
   ]
  },
  {
   "cell_type": "code",
   "execution_count": 7,
   "id": "17951440",
   "metadata": {},
   "outputs": [
    {
     "name": "stdout",
     "output_type": "stream",
     "text": [
      "[4.8, 1.21, 2.385]\n",
      "[0.9918374288468401, 0.7702989490466019, 0.9156763035785255]\n"
     ]
    }
   ],
   "source": [
    "print(output)\n",
    "print(sigmoid_op)"
   ]
  },
  {
   "cell_type": "code",
   "execution_count": null,
   "id": "bd613854",
   "metadata": {},
   "outputs": [],
   "source": []
  }
 ],
 "metadata": {
  "kernelspec": {
   "display_name": "Python 3 (ipykernel)",
   "language": "python",
   "name": "python3"
  },
  "language_info": {
   "codemirror_mode": {
    "name": "ipython",
    "version": 3
   },
   "file_extension": ".py",
   "mimetype": "text/x-python",
   "name": "python",
   "nbconvert_exporter": "python",
   "pygments_lexer": "ipython3",
   "version": "3.11.0"
  }
 },
 "nbformat": 4,
 "nbformat_minor": 5
}
